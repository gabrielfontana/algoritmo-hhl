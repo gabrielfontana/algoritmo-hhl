{
 "cells": [
  {
   "cell_type": "code",
   "execution_count": 36,
   "id": "02642fff",
   "metadata": {},
   "outputs": [],
   "source": [
    "#Bibliotecas e frameworks\n",
    "import numpy as np\n",
    "from qiskit.algorithms.linear_solvers import HHL\n",
    "from qiskit.algorithms import NumPyLinearSolver"
   ]
  },
  {
   "cell_type": "code",
   "execution_count": 37,
   "id": "7f5ba3c2",
   "metadata": {},
   "outputs": [],
   "source": [
    "#Definição do sistema linear\n",
    "matrix = np.array([[3/2, 1/2], [1/2, 3/2]])\n",
    "vector = np.array([1, 0])"
   ]
  },
  {
   "cell_type": "code",
   "execution_count": 38,
   "id": "a723a95e",
   "metadata": {},
   "outputs": [],
   "source": [
    "#Solução clássica\n",
    "def classicSolution(matrix, vector):\n",
    "    ls = NumPyLinearSolver()\n",
    "    classic_solution = ls.solve(matrix, vector)\n",
    "    print(f'Solution: {classic_solution.state}')\n",
    "    print(f'Euclidean norm: {classic_solution.euclidean_norm}')"
   ]
  },
  {
   "cell_type": "code",
   "execution_count": 39,
   "id": "0a44781d",
   "metadata": {},
   "outputs": [
    {
     "name": "stdout",
     "output_type": "stream",
     "text": [
      "Solution: [ 0.75 -0.25]\n",
      "Euclidean norm: 0.7905694150420949\n"
     ]
    }
   ],
   "source": [
    "classicSolution(matrix, vector)"
   ]
  },
  {
   "cell_type": "code",
   "execution_count": 40,
   "id": "282f822d",
   "metadata": {},
   "outputs": [
    {
     "name": "stdout",
     "output_type": "stream",
     "text": [
      "{   'circuit_results': None,\n",
      "    'euclidean_norm': 0.790569415042094,\n",
      "    'observable': None,\n",
      "    'state': <qiskit.circuit.quantumcircuit.QuantumCircuit object at 0x7f841cc57580>}\n"
     ]
    },
    {
     "data": {
      "image/png": "[encoded data removed]",
      "text/plain": [
       "<Figure size 473.904x264.88 with 1 Axes>"
      ]
     },
     "execution_count": 40,
     "metadata": {},
     "output_type": "execute_result"
    }
   ],
   "source": [
    "#Solução utilizando o algoritmo HHL\n",
    "hhl = HHL()\n",
    "quantum_solution = hhl.solve(matrix, vector)\n",
    "print(quantum_solution)\n",
    "quantum_solution.state.draw('mpl', style='iqx')"
   ]
  },
  {
   "cell_type": "code",
   "execution_count": null,
   "id": "81ba045a",
   "metadata": {},
   "outputs": [],
   "source": []
  }
 ],
 "metadata": {
  "kernelspec": {
   "display_name": "Python 3",
   "language": "python",
   "name": "python3"
  },
  "language_info": {
   "codemirror_mode": {
    "name": "ipython",
    "version": 3
   },
   "file_extension": ".py",
   "mimetype": "text/x-python",
   "name": "python",
   "nbconvert_exporter": "python",
   "pygments_lexer": "ipython3",
   "version": "3.8.10"
  }
 },
 "nbformat": 4,
 "nbformat_minor": 5
}
